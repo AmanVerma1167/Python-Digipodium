{
 "cells": [
  {
   "cell_type": "code",
   "execution_count": 1,
   "metadata": {},
   "outputs": [],
   "source": [
    "import requests\n",
    "from bs4 import BeautifulSoup\n",
    "import os \n",
    "import pandas as pd\n",
    "import datetime\n",
    "\n",
    "def get_soup(url):\n",
    "    r= requests.get(url)\n",
    "    if r.status_code == 200:\n",
    "        return BeautifulSoup(r.text, 'html5lib')\n",
    "    return None"
   ]
  },
  {
   "cell_type": "code",
   "execution_count": 2,
   "metadata": {},
   "outputs": [],
   "source": [
    "url ='https://www.flipkart.com/search'\n",
    "soup = get_soup(url)"
   ]
  },
  {
   "cell_type": "code",
   "execution_count": null,
   "metadata": {},
   "outputs": [],
   "source": [
    "target = soup.find('div', class_ =\"_1YokD2 _3Mn1Gg\")\n",
    "if target is not None:\n",
    "    print('target found')"
   ]
  },
  {
   "cell_type": "code",
   "execution_count": null,
   "metadata": {},
   "outputs": [],
   "source": [
    "items = target.find_all('div', class_ = '_1AtVbE col-12-12')\n",
    "print(f'Found {len(items)} items')"
   ]
  },
  {
   "cell_type": "code",
   "execution_count": null,
   "metadata": {},
   "outputs": [],
   "source": [
    "for item in items:\n",
    "    title = item.find('div', class_ ='_4rR01T')\n",
    "    sell_price = item.find('div', class_ ='_30jeq3 _1_WHN1')\n",
    "    orlg_price = item.find('div', class_ =\"_3I9_wc _27UcVY\")\n",
    "    rating = item.find('div',class_ ='_3LWZlK')\n",
    "    num_ratings = item.find('div', class_ ='_2_R_DZ')\n",
    "    if title:\n",
    "        print(title.text.strip())\n",
    "    if sell_price:\n",
    "        print(sell_price.text.strip())\n",
    "    if orlg_price:\n",
    "        print(orlg_price.text.strip())\n",
    "    if rating:\n",
    "        print(rating.text.strip())\n",
    "    if num_ratings:\n",
    "        print(num_ratings.text.strip())\n",
    "    print()\n"
   ]
  }
 ],
 "metadata": {
  "kernelspec": {
   "display_name": "Python 3.9.12 ('base')",
   "language": "python",
   "name": "python3"
  },
  "language_info": {
   "codemirror_mode": {
    "name": "ipython",
    "version": 3
   },
   "file_extension": ".py",
   "mimetype": "text/x-python",
   "name": "python",
   "nbconvert_exporter": "python",
   "pygments_lexer": "ipython3",
   "version": "3.9.12"
  },
  "orig_nbformat": 4,
  "vscode": {
   "interpreter": {
    "hash": "375638c62e87656428b1981de8d1592e4984cf95bf8fb2abc9dbb6664b222af6"
   }
  }
 },
 "nbformat": 4,
 "nbformat_minor": 2
}
